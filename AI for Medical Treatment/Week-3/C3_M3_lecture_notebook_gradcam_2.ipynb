{
 "cells": [
  {
   "cell_type": "markdown",
   "metadata": {},
   "source": [
    "# GradCAM: Continuation (Part 2) - Lecture Notebook"
   ]
  },
  {
   "cell_type": "markdown",
   "metadata": {},
   "source": [
    "In the previous lecture notebook (GradCAM Part 1) we explored what Grad-Cam is and why it is useful. We also looked at how we can compute the activations of a particular layer using Keras API. In this notebook we will check the other element that Grad-CAM requires, the gradients of the model's output with respect to our desired layer's output. This is the \"Grad\" portion of Grad-CAM. \n",
    "\n",
    "Let's dive into it!"
   ]
  },
  {
   "cell_type": "code",
   "execution_count": 1,
   "metadata": {},
   "outputs": [
    {
     "name": "stderr",
     "output_type": "stream",
     "text": [
      "Using TensorFlow backend.\n"
     ]
    }
   ],
   "source": [
    "import keras\n",
    "from keras import backend as K\n",
    "from util import *"
   ]
  },
  {
   "cell_type": "markdown",
   "metadata": {},
   "source": [
    "The `load_C3M3_model()` function has been taken care of and as last time, its internals are out of the scope of this notebook."
   ]
  },
  {
   "cell_type": "code",
   "execution_count": 2,
   "metadata": {},
   "outputs": [
    {
     "name": "stdout",
     "output_type": "stream",
     "text": [
      "Got loss weights\n",
      "Loaded DenseNet\n",
      "Added layers\n",
      "Compiled Model\n",
      "Loaded Weights\n"
     ]
    }
   ],
   "source": [
    "# Load the model we used last time\n",
    "model = load_C3M3_model()"
   ]
  },
  {
   "cell_type": "markdown",
   "metadata": {},
   "source": [
    "Kindly recall from the previous notebook (GradCAM Part 1) that our model has 428 layers. "
   ]
  },
  {
   "cell_type": "markdown",
   "metadata": {},
   "source": [
    "We are now interested in getting the gradients when the model outputs a specific class. For this we will use Keras backend's `gradients(..)` function. This function requires two arguments: \n",
    "\n",
    "  - Loss (scalar tensor)\n",
    "  - List of variables\n",
    "  \n",
    "Since we want the gradients with respect to the output, we can use our model's output tensor:"
   ]
  },
  {
   "cell_type": "code",
   "execution_count": 3,
   "metadata": {},
   "outputs": [
    {
     "data": {
      "text/plain": [
       "<tf.Tensor 'dense_1/Sigmoid:0' shape=(?, 14) dtype=float32>"
      ]
     },
     "execution_count": 3,
     "metadata": {},
     "output_type": "execute_result"
    }
   ],
   "source": [
    "# Save model's output in a variable\n",
    "y = model.output\n",
    "\n",
    "# Print model's output\n",
    "y"
   ]
  },
  {
   "cell_type": "markdown",
   "metadata": {},
   "source": [
    "However this is not a scalar (aka rank-0) tensor because it has axes. To transform this tensor into a scalar we can slice it like this:"
   ]
  },
  {
   "cell_type": "code",
   "execution_count": 4,
   "metadata": {},
   "outputs": [
    {
     "data": {
      "text/plain": [
       "<tf.Tensor 'strided_slice:0' shape=(14,) dtype=float32>"
      ]
     },
     "execution_count": 4,
     "metadata": {},
     "output_type": "execute_result"
    }
   ],
   "source": [
    "y = y[0]\n",
    "y"
   ]
  },
  {
   "cell_type": "markdown",
   "metadata": {},
   "source": [
    "It is still *not* a scalar tensor so we will have to slice it again:"
   ]
  },
  {
   "cell_type": "code",
   "execution_count": 5,
   "metadata": {},
   "outputs": [
    {
     "data": {
      "text/plain": [
       "<tf.Tensor 'strided_slice_1:0' shape=() dtype=float32>"
      ]
     },
     "execution_count": 5,
     "metadata": {},
     "output_type": "execute_result"
    }
   ],
   "source": [
    "y = y[0]\n",
    "y"
   ]
  },
  {
   "cell_type": "markdown",
   "metadata": {},
   "source": [
    "Now it is a scalar tensor!\n",
    "\n",
    "The above slicing could be done in a single statement like this:\n",
    "\n",
    "```python\n",
    "y = y[0,0]\n",
    "```\n",
    "\n",
    "But the explicit version of it was shown for visibility purposes.\n",
    "\n",
    "The first argument required by `gradients(..)` function is the loss, which we will like to get the gradient of, and the second is a list of parameters to compute the gradient with respect to. Since we are interested in getting the gradient of the output of the model with respect to the output of the last convolutional layer we need to specify the layer as we did  in the previous notebook:"
   ]
  },
  {
   "cell_type": "code",
   "execution_count": 6,
   "metadata": {},
   "outputs": [
    {
     "data": {
      "text/plain": [
       "[<tf.Tensor 'gradients/AddN:0' shape=(?, ?, ?, 1024) dtype=float32>]"
      ]
     },
     "execution_count": 6,
     "metadata": {},
     "output_type": "execute_result"
    }
   ],
   "source": [
    "# Save the desired layer in a variable\n",
    "layer = model.get_layer(\"conv5_block16_concat\")\n",
    "\n",
    "# Compute gradient of model's output with respect to last conv layer's output\n",
    "gradients = K.gradients(y, layer.output)\n",
    "\n",
    "# Print gradients list\n",
    "gradients"
   ]
  },
  {
   "cell_type": "markdown",
   "metadata": {},
   "source": [
    "Notice that the gradients function returns a list of placeholder tensors. To get the actual placeholder we will get the first element of this list:"
   ]
  },
  {
   "cell_type": "code",
   "execution_count": 7,
   "metadata": {},
   "outputs": [
    {
     "data": {
      "text/plain": [
       "<tf.Tensor 'gradients/AddN:0' shape=(?, ?, ?, 1024) dtype=float32>"
      ]
     },
     "execution_count": 7,
     "metadata": {},
     "output_type": "execute_result"
    }
   ],
   "source": [
    "# Get first (and only) element in the list\n",
    "gradients = gradients[0]\n",
    "\n",
    "# Print tensor placeholder\n",
    "gradients"
   ]
  },
  {
   "cell_type": "markdown",
   "metadata": {},
   "source": [
    "As with the activations of the last convolutional layer in the previous notebook, we still need a function that uses this placeholder to compute the actual values for an input image. This can be done in the same manner as before. Remember this **function expects its arguments as lists or tuples**:"
   ]
  },
  {
   "cell_type": "code",
   "execution_count": 8,
   "metadata": {},
   "outputs": [
    {
     "data": {
      "text/plain": [
       "<keras.backend.tensorflow_backend.Function at 0x7f7717775cc0>"
      ]
     },
     "execution_count": 8,
     "metadata": {},
     "output_type": "execute_result"
    }
   ],
   "source": [
    "# Instantiate the function to compute the gradients\n",
    "gradients_function = K.function([model.input], [gradients])\n",
    "\n",
    "# Print the gradients function\n",
    "gradients_function"
   ]
  },
  {
   "cell_type": "markdown",
   "metadata": {},
   "source": [
    "Now that we have the function for computing the gradients, let's test it out on a particular image. Don't worry about the code to load the image, this has been taken care of for you, you should only care that an image ready to be processed will be saved in the x variable:"
   ]
  },
  {
   "cell_type": "code",
   "execution_count": 9,
   "metadata": {},
   "outputs": [
    {
     "data": {
      "image/png": "[encoded data removed]",
      "text/plain": [
       "<Figure size 432x288 with 1 Axes>"
      ]
     },
     "metadata": {},
     "output_type": "display_data"
    }
   ],
   "source": [
    "# Load dataframe that contains information about the dataset of images\n",
    "df = pd.read_csv(\"nih_new/train-small.csv\")\n",
    "\n",
    "# Path to the actual image\n",
    "im_path = 'nih_new/images-small/00000599_000.png'\n",
    "\n",
    "# Load the image and save it to a variable\n",
    "x = load_image(im_path, df, preprocess=False)\n",
    "\n",
    "# Display the image\n",
    "plt.imshow(x, cmap = 'gray')\n",
    "plt.show()"
   ]
  },
  {
   "cell_type": "markdown",
   "metadata": {},
   "source": [
    "We should normalize this image before going forward, this has also been taken care of:"
   ]
  },
  {
   "cell_type": "code",
   "execution_count": 10,
   "metadata": {},
   "outputs": [],
   "source": [
    "# Calculate mean and standard deviation of a batch of images\n",
    "mean, std = get_mean_std_per_batch(df)\n",
    "\n",
    "# Normalize image\n",
    "x = load_image_normalize(im_path, mean, std)"
   ]
  },
  {
   "cell_type": "markdown",
   "metadata": {},
   "source": [
    "Now we have everything we need to compute the actual values of the gradients. In this case we should also **provide the input as a list or tuple**:"
   ]
  },
  {
   "cell_type": "code",
   "execution_count": 11,
   "metadata": {},
   "outputs": [],
   "source": [
    "# Run the function on the image and save it in a variable\n",
    "actual_gradients = gradients_function([x])"
   ]
  },
  {
   "cell_type": "markdown",
   "metadata": {},
   "source": [
    "An important intermediary step is to trim the batch dimension which can be done like this:"
   ]
  },
  {
   "cell_type": "code",
   "execution_count": 12,
   "metadata": {},
   "outputs": [],
   "source": [
    "# Remove batch dimension\n",
    "actual_gradients = actual_gradients[0][0, :]"
   ]
  },
  {
   "cell_type": "code",
   "execution_count": 13,
   "metadata": {},
   "outputs": [
    {
     "name": "stdout",
     "output_type": "stream",
     "text": [
      "Gradients of model's output with respect to output of last convolutional layer have shape: (10, 10, 1024)\n"
     ]
    },
    {
     "data": {
      "text/plain": [
       "array([[[-1.5048569e-09,  3.0319178e-09,  3.5530127e-07, ...,\n",
       "          9.9209843e-05, -6.6402754e-05,  6.9188114e-05],\n",
       "        [-1.5048569e-09,  3.0319178e-09,  3.5530127e-07, ...,\n",
       "          9.9209843e-05, -6.6402754e-05,  6.9188114e-05],\n",
       "        [-1.5048569e-09,  3.0319178e-09,  3.5530127e-07, ...,\n",
       "          9.9209843e-05, -6.6402754e-05,  6.9188114e-05],\n",
       "        ...,\n",
       "        [-1.5048569e-09,  3.0319178e-09,  3.5530127e-07, ...,\n",
       "          9.9209843e-05, -6.6402754e-05,  6.9188114e-05],\n",
       "        [-1.5048569e-09,  3.0319178e-09,  3.5530127e-07, ...,\n",
       "          9.9209843e-05, -6.6402754e-05,  6.9188114e-05],\n",
       "        [-1.5048569e-09,  3.0319178e-09,  3.5530127e-07, ...,\n",
       "          9.9209843e-05, -6.6402754e-05,  6.9188114e-05]],\n",
       "\n",
       "       [[-1.5048569e-09,  3.0319178e-09,  3.5530127e-07, ...,\n",
       "          9.9209843e-05, -6.6402754e-05,  6.9188114e-05],\n",
       "        [-1.5048569e-09,  3.0319178e-09,  3.5530127e-07, ...,\n",
       "          9.9209843e-05, -6.6402754e-05,  6.9188114e-05],\n",
       "        [-1.5048569e-09,  3.0319178e-09,  3.5530127e-07, ...,\n",
       "          9.9209843e-05, -6.6402754e-05,  6.9188114e-05],\n",
       "        ...,\n",
       "        [-1.5048569e-09,  3.0319178e-09,  3.5530127e-07, ...,\n",
       "          9.9209843e-05, -6.6402754e-05,  6.9188114e-05],\n",
       "        [-1.5048569e-09,  3.0319178e-09,  3.5530127e-07, ...,\n",
       "          9.9209843e-05, -6.6402754e-05,  6.9188114e-05],\n",
       "        [-1.5048569e-09,  3.0319178e-09,  3.5530127e-07, ...,\n",
       "          9.9209843e-05, -6.6402754e-05,  6.9188114e-05]],\n",
       "\n",
       "       [[-1.5048569e-09,  3.0319178e-09,  3.5530127e-07, ...,\n",
       "          9.9209843e-05, -6.6402754e-05,  6.9188114e-05],\n",
       "        [-1.5048569e-09,  3.0319178e-09,  3.5530127e-07, ...,\n",
       "          9.9209843e-05, -6.6402754e-05,  6.9188114e-05],\n",
       "        [-1.5048569e-09,  3.0319178e-09,  3.5530127e-07, ...,\n",
       "          9.9209843e-05, -6.6402754e-05,  6.9188114e-05],\n",
       "        ...,\n",
       "        [-1.5048569e-09,  3.0319178e-09,  3.5530127e-07, ...,\n",
       "          9.9209843e-05, -6.6402754e-05,  6.9188114e-05],\n",
       "        [-1.5048569e-09,  3.0319178e-09,  3.5530127e-07, ...,\n",
       "          9.9209843e-05, -6.6402754e-05,  6.9188114e-05],\n",
       "        [-1.5048569e-09,  3.0319178e-09,  3.5530127e-07, ...,\n",
       "          9.9209843e-05, -6.6402754e-05,  6.9188114e-05]],\n",
       "\n",
       "       ...,\n",
       "\n",
       "       [[-1.5048569e-09,  3.0319178e-09,  3.5530127e-07, ...,\n",
       "          9.9209843e-05, -6.6402754e-05,  6.9188114e-05],\n",
       "        [-1.5048569e-09,  3.0319178e-09,  3.5530127e-07, ...,\n",
       "          9.9209843e-05, -6.6402754e-05,  6.9188114e-05],\n",
       "        [-1.5048569e-09,  3.0319178e-09,  3.5530127e-07, ...,\n",
       "          9.9209843e-05, -6.6402754e-05,  6.9188114e-05],\n",
       "        ...,\n",
       "        [-1.5048569e-09,  3.0319178e-09,  3.5530127e-07, ...,\n",
       "          9.9209843e-05, -6.6402754e-05,  6.9188114e-05],\n",
       "        [-1.5048569e-09,  3.0319178e-09,  3.5530127e-07, ...,\n",
       "          9.9209843e-05, -6.6402754e-05,  6.9188114e-05],\n",
       "        [-1.5048569e-09,  3.0319178e-09,  3.5530127e-07, ...,\n",
       "          9.9209843e-05, -6.6402754e-05,  6.9188114e-05]],\n",
       "\n",
       "       [[-1.5048569e-09,  3.0319178e-09,  3.5530127e-07, ...,\n",
       "          9.9209843e-05, -6.6402754e-05,  6.9188114e-05],\n",
       "        [-1.5048569e-09,  3.0319178e-09,  3.5530127e-07, ...,\n",
       "          9.9209843e-05, -6.6402754e-05,  6.9188114e-05],\n",
       "        [-1.5048569e-09,  3.0319178e-09,  3.5530127e-07, ...,\n",
       "          9.9209843e-05, -6.6402754e-05,  6.9188114e-05],\n",
       "        ...,\n",
       "        [-1.5048569e-09,  3.0319178e-09,  3.5530127e-07, ...,\n",
       "          9.9209843e-05, -6.6402754e-05,  6.9188114e-05],\n",
       "        [-1.5048569e-09,  3.0319178e-09,  3.5530127e-07, ...,\n",
       "          9.9209843e-05, -6.6402754e-05,  6.9188114e-05],\n",
       "        [-1.5048569e-09,  3.0319178e-09,  3.5530127e-07, ...,\n",
       "          9.9209843e-05, -6.6402754e-05,  6.9188114e-05]],\n",
       "\n",
       "       [[-1.5048569e-09,  3.0319178e-09,  3.5530127e-07, ...,\n",
       "          9.9209843e-05, -6.6402754e-05,  6.9188114e-05],\n",
       "        [-1.5048569e-09,  3.0319178e-09,  3.5530127e-07, ...,\n",
       "          9.9209843e-05, -6.6402754e-05,  6.9188114e-05],\n",
       "        [-1.5048569e-09,  3.0319178e-09,  3.5530127e-07, ...,\n",
       "          9.9209843e-05, -6.6402754e-05,  6.9188114e-05],\n",
       "        ...,\n",
       "        [-1.5048569e-09,  3.0319178e-09,  3.5530127e-07, ...,\n",
       "          9.9209843e-05, -6.6402754e-05,  6.9188114e-05],\n",
       "        [-1.5048569e-09,  3.0319178e-09,  3.5530127e-07, ...,\n",
       "          9.9209843e-05, -6.6402754e-05,  6.9188114e-05],\n",
       "        [-1.5048569e-09,  3.0319178e-09,  3.5530127e-07, ...,\n",
       "          9.9209843e-05, -6.6402754e-05,  6.9188114e-05]]], dtype=float32)"
      ]
     },
     "execution_count": 13,
     "metadata": {},
     "output_type": "execute_result"
    }
   ],
   "source": [
    "# Print shape of the gradients array\n",
    "print(f\"Gradients of model's output with respect to output of last convolutional layer have shape: {actual_gradients.shape}\")\n",
    "\n",
    "# Print gradients array\n",
    "actual_gradients"
   ]
  },
  {
   "cell_type": "markdown",
   "metadata": {},
   "source": [
    "Looks like everything worked out nicely! You will still have to wait for the assignment to see how these elements are used by Grad-CAM to get visual interpretations. Before you go you should know that there is a shortcut for these calculations by getting both elements from a single Keras function:"
   ]
  },
  {
   "cell_type": "code",
   "execution_count": 14,
   "metadata": {},
   "outputs": [],
   "source": [
    "# Save multi-input Keras function in a variable\n",
    "activations_and_gradients_function = K.function([model.input], [layer.output, gradients])\n",
    "\n",
    "# Run the function on our image\n",
    "act_x, grad_x = activations_and_gradients_function([x])\n",
    "\n",
    "# Remove batch dimension for both arrays\n",
    "act_x = act_x[0, :]\n",
    "grad_x = grad_x[0, :]"
   ]
  },
  {
   "cell_type": "code",
   "execution_count": 15,
   "metadata": {},
   "outputs": [
    {
     "name": "stdout",
     "output_type": "stream",
     "text": [
      "[[[-0.27499285  0.09562318 -0.04622306 ...  0.18796149 -0.07384591\n",
      "    0.2071681 ]\n",
      "  [-0.3847637  -0.4979061  -0.8652762  ...  0.2730918  -0.08800013\n",
      "    0.3097751 ]\n",
      "  [-0.28587252 -0.26461956 -0.8654135  ...  0.2275599  -0.07539898\n",
      "    0.2521165 ]\n",
      "  ...\n",
      "  [-0.39595795 -0.3029268  -0.85092163 ...  0.12334597 -0.08688764\n",
      "    0.15991345]\n",
      "  [-0.29339066 -0.08201979 -0.46897882 ...  0.26438704 -0.10969029\n",
      "    0.30342337]\n",
      "  [-0.2694053   0.22734402 -0.05394013 ...  0.13448556 -0.06685128\n",
      "    0.19926418]]\n",
      "\n",
      " [[-0.41372573  0.07234264 -0.45044816 ...  0.24062768 -0.11546122\n",
      "    0.2998003 ]\n",
      "  [-0.1848123  -0.42532268 -0.25586486 ...  0.42045334 -0.14904065\n",
      "    0.4683957 ]\n",
      "  [-0.49536175 -0.48820707 -0.42563722 ...  0.25047678 -0.11268292\n",
      "    0.30997396]\n",
      "  ...\n",
      "  [-0.3761281  -0.685918   -0.56941456 ...  0.14597298 -0.10336351\n",
      "    0.17758365]\n",
      "  [-0.59117335 -1.0318103  -0.5121883  ...  0.30280906 -0.1280992\n",
      "    0.30692536]\n",
      "  [-0.5931324  -0.22215185  0.01610702 ...  0.16963442 -0.06313673\n",
      "    0.1983915 ]]\n",
      "\n",
      " [[-0.5007994  -0.04204279 -0.3792774  ...  0.26307923 -0.10871315\n",
      "    0.2323031 ]\n",
      "  [-1.280138   -1.0925599  -0.31068575 ...  0.4402983  -0.14549989\n",
      "    0.34160253]\n",
      "  [-0.8979021  -0.63079876 -0.54529303 ...  0.28832802 -0.09509743\n",
      "    0.19716166]\n",
      "  ...\n",
      "  [-1.4073573   0.11488277  0.27404517 ...  0.0607511  -0.05783396\n",
      "    0.08782689]\n",
      "  [-0.90608335 -0.05433604  1.1505269  ...  0.18098924 -0.05945684\n",
      "    0.14553516]\n",
      "  [-0.79797304 -0.24032372  0.98984957 ...  0.07467136 -0.02657839\n",
      "    0.07640611]]\n",
      "\n",
      " ...\n",
      "\n",
      " [[-0.6231123  -0.00556133  0.16247496 ...  0.36154127 -0.15332645\n",
      "    0.492234  ]\n",
      "  [-0.39773864  0.7143637  -0.04308961 ...  0.4095924  -0.12539634\n",
      "    0.742646  ]\n",
      "  [-2.0925891  -1.1996976  -0.7967166  ...  0.20762096  0.17539848\n",
      "    0.9084903 ]\n",
      "  ...\n",
      "  [-2.076486   -0.8616887  -0.5910199  ...  0.01220607  0.09519047\n",
      "    1.4034735 ]\n",
      "  [-1.6289756   0.08168811 -0.54430294 ...  0.15309615 -0.08790696\n",
      "    1.4854519 ]\n",
      "  [-0.9328003   0.06281774  0.32576805 ... -0.12914816  0.09849213\n",
      "    1.039632  ]]\n",
      "\n",
      " [[-0.6225282  -0.01850257 -0.46484256 ...  0.27918398 -0.15289398\n",
      "    0.45771587]\n",
      "  [-0.55099154  0.13199884 -0.42861605 ...  0.4369281  -0.23973265\n",
      "    0.64805794]\n",
      "  [-0.44651106  0.5981167  -1.5535052  ...  0.33562163 -0.15375644\n",
      "    0.53001016]\n",
      "  ...\n",
      "  [-0.8229714  -0.13633811 -1.0242658  ...  0.09531031 -0.09459047\n",
      "    0.73260504]\n",
      "  [-0.29219133  0.39210275 -0.9060284  ...  0.29068828 -0.22160164\n",
      "    0.8574279 ]\n",
      "  [-0.5235742  -0.10682295 -0.58629715 ...  0.05157242 -0.09058712\n",
      "    0.67485845]]\n",
      "\n",
      " [[-0.93891096  0.18889081  0.5498821  ...  0.25315025 -0.10427321\n",
      "    0.23339678]\n",
      "  [-1.0329806  -0.18401885  0.41912472 ...  0.33821028 -0.1180966\n",
      "    0.32566255]\n",
      "  [-0.6944693  -0.02381121 -0.26977015 ...  0.26642686 -0.09412009\n",
      "    0.27612883]\n",
      "  ...\n",
      "  [-0.5443878   0.6866692  -0.05878407 ...  0.15924309 -0.08062688\n",
      "    0.24038032]\n",
      "  [-0.6359308   0.27655548  0.2643078  ...  0.23851782 -0.10962507\n",
      "    0.28794852]\n",
      "  [-0.6478206   0.22405005  0.5824325  ...  0.17019564 -0.05316956\n",
      "    0.23870906]]]\n",
      "[[[-1.5048569e-09  3.0319178e-09  3.5530127e-07 ...  9.9209843e-05\n",
      "   -6.6402754e-05  6.9188114e-05]\n",
      "  [-1.5048569e-09  3.0319178e-09  3.5530127e-07 ...  9.9209843e-05\n",
      "   -6.6402754e-05  6.9188114e-05]\n",
      "  [-1.5048569e-09  3.0319178e-09  3.5530127e-07 ...  9.9209843e-05\n",
      "   -6.6402754e-05  6.9188114e-05]\n",
      "  ...\n",
      "  [-1.5048569e-09  3.0319178e-09  3.5530127e-07 ...  9.9209843e-05\n",
      "   -6.6402754e-05  6.9188114e-05]\n",
      "  [-1.5048569e-09  3.0319178e-09  3.5530127e-07 ...  9.9209843e-05\n",
      "   -6.6402754e-05  6.9188114e-05]\n",
      "  [-1.5048569e-09  3.0319178e-09  3.5530127e-07 ...  9.9209843e-05\n",
      "   -6.6402754e-05  6.9188114e-05]]\n",
      "\n",
      " [[-1.5048569e-09  3.0319178e-09  3.5530127e-07 ...  9.9209843e-05\n",
      "   -6.6402754e-05  6.9188114e-05]\n",
      "  [-1.5048569e-09  3.0319178e-09  3.5530127e-07 ...  9.9209843e-05\n",
      "   -6.6402754e-05  6.9188114e-05]\n",
      "  [-1.5048569e-09  3.0319178e-09  3.5530127e-07 ...  9.9209843e-05\n",
      "   -6.6402754e-05  6.9188114e-05]\n",
      "  ...\n",
      "  [-1.5048569e-09  3.0319178e-09  3.5530127e-07 ...  9.9209843e-05\n",
      "   -6.6402754e-05  6.9188114e-05]\n",
      "  [-1.5048569e-09  3.0319178e-09  3.5530127e-07 ...  9.9209843e-05\n",
      "   -6.6402754e-05  6.9188114e-05]\n",
      "  [-1.5048569e-09  3.0319178e-09  3.5530127e-07 ...  9.9209843e-05\n",
      "   -6.6402754e-05  6.9188114e-05]]\n",
      "\n",
      " [[-1.5048569e-09  3.0319178e-09  3.5530127e-07 ...  9.9209843e-05\n",
      "   -6.6402754e-05  6.9188114e-05]\n",
      "  [-1.5048569e-09  3.0319178e-09  3.5530127e-07 ...  9.9209843e-05\n",
      "   -6.6402754e-05  6.9188114e-05]\n",
      "  [-1.5048569e-09  3.0319178e-09  3.5530127e-07 ...  9.9209843e-05\n",
      "   -6.6402754e-05  6.9188114e-05]\n",
      "  ...\n",
      "  [-1.5048569e-09  3.0319178e-09  3.5530127e-07 ...  9.9209843e-05\n",
      "   -6.6402754e-05  6.9188114e-05]\n",
      "  [-1.5048569e-09  3.0319178e-09  3.5530127e-07 ...  9.9209843e-05\n",
      "   -6.6402754e-05  6.9188114e-05]\n",
      "  [-1.5048569e-09  3.0319178e-09  3.5530127e-07 ...  9.9209843e-05\n",
      "   -6.6402754e-05  6.9188114e-05]]\n",
      "\n",
      " ...\n",
      "\n",
      " [[-1.5048569e-09  3.0319178e-09  3.5530127e-07 ...  9.9209843e-05\n",
      "   -6.6402754e-05  6.9188114e-05]\n",
      "  [-1.5048569e-09  3.0319178e-09  3.5530127e-07 ...  9.9209843e-05\n",
      "   -6.6402754e-05  6.9188114e-05]\n",
      "  [-1.5048569e-09  3.0319178e-09  3.5530127e-07 ...  9.9209843e-05\n",
      "   -6.6402754e-05  6.9188114e-05]\n",
      "  ...\n",
      "  [-1.5048569e-09  3.0319178e-09  3.5530127e-07 ...  9.9209843e-05\n",
      "   -6.6402754e-05  6.9188114e-05]\n",
      "  [-1.5048569e-09  3.0319178e-09  3.5530127e-07 ...  9.9209843e-05\n",
      "   -6.6402754e-05  6.9188114e-05]\n",
      "  [-1.5048569e-09  3.0319178e-09  3.5530127e-07 ...  9.9209843e-05\n",
      "   -6.6402754e-05  6.9188114e-05]]\n",
      "\n",
      " [[-1.5048569e-09  3.0319178e-09  3.5530127e-07 ...  9.9209843e-05\n",
      "   -6.6402754e-05  6.9188114e-05]\n",
      "  [-1.5048569e-09  3.0319178e-09  3.5530127e-07 ...  9.9209843e-05\n",
      "   -6.6402754e-05  6.9188114e-05]\n",
      "  [-1.5048569e-09  3.0319178e-09  3.5530127e-07 ...  9.9209843e-05\n",
      "   -6.6402754e-05  6.9188114e-05]\n",
      "  ...\n",
      "  [-1.5048569e-09  3.0319178e-09  3.5530127e-07 ...  9.9209843e-05\n",
      "   -6.6402754e-05  6.9188114e-05]\n",
      "  [-1.5048569e-09  3.0319178e-09  3.5530127e-07 ...  9.9209843e-05\n",
      "   -6.6402754e-05  6.9188114e-05]\n",
      "  [-1.5048569e-09  3.0319178e-09  3.5530127e-07 ...  9.9209843e-05\n",
      "   -6.6402754e-05  6.9188114e-05]]\n",
      "\n",
      " [[-1.5048569e-09  3.0319178e-09  3.5530127e-07 ...  9.9209843e-05\n",
      "   -6.6402754e-05  6.9188114e-05]\n",
      "  [-1.5048569e-09  3.0319178e-09  3.5530127e-07 ...  9.9209843e-05\n",
      "   -6.6402754e-05  6.9188114e-05]\n",
      "  [-1.5048569e-09  3.0319178e-09  3.5530127e-07 ...  9.9209843e-05\n",
      "   -6.6402754e-05  6.9188114e-05]\n",
      "  ...\n",
      "  [-1.5048569e-09  3.0319178e-09  3.5530127e-07 ...  9.9209843e-05\n",
      "   -6.6402754e-05  6.9188114e-05]\n",
      "  [-1.5048569e-09  3.0319178e-09  3.5530127e-07 ...  9.9209843e-05\n",
      "   -6.6402754e-05  6.9188114e-05]\n",
      "  [-1.5048569e-09  3.0319178e-09  3.5530127e-07 ...  9.9209843e-05\n",
      "   -6.6402754e-05  6.9188114e-05]]]\n"
     ]
    }
   ],
   "source": [
    "# Print actual activations\n",
    "print(act_x)\n",
    "\n",
    "# Print actual gradients\n",
    "print(grad_x)"
   ]
  },
  {
   "cell_type": "markdown",
   "metadata": {},
   "source": [
    "**Congratulations on finishing this lecture notebook!** Hopefully you will now have a better understanding of how to leverage Keras's API power for computing gradients. Keep it up!"
   ]
  }
 ],
 "metadata": {
  "kernelspec": {
   "display_name": "Python 3",
   "language": "python",
   "name": "python3"
  },
  "language_info": {
   "codemirror_mode": {
    "name": "ipython",
    "version": 3
   },
   "file_extension": ".py",
   "mimetype": "text/x-python",
   "name": "python",
   "nbconvert_exporter": "python",
   "pygments_lexer": "ipython3",
   "version": "3.6.3"
  }
 },
 "nbformat": 4,
 "nbformat_minor": 4
}
